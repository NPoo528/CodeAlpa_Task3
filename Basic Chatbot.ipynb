{
  "nbformat": 4,
  "nbformat_minor": 0,
  "metadata": {
    "colab": {
      "provenance": []
    },
    "kernelspec": {
      "name": "python3",
      "display_name": "Python 3"
    },
    "language_info": {
      "name": "python"
    }
  },
  "cells": [
    {
      "cell_type": "code",
      "execution_count": 1,
      "metadata": {
        "colab": {
          "base_uri": "https://localhost:8080/"
        },
        "id": "B9lGGpW4-AfC",
        "outputId": "17fcb91d-e111-434b-a1f2-96a653d5ac95"
      },
      "outputs": [
        {
          "output_type": "stream",
          "name": "stdout",
          "text": [
            "Requirement already satisfied: nltk in /usr/local/lib/python3.10/dist-packages (3.8.1)\n",
            "Requirement already satisfied: click in /usr/local/lib/python3.10/dist-packages (from nltk) (8.1.7)\n",
            "Requirement already satisfied: joblib in /usr/local/lib/python3.10/dist-packages (from nltk) (1.4.2)\n",
            "Requirement already satisfied: regex>=2021.8.3 in /usr/local/lib/python3.10/dist-packages (from nltk) (2024.5.15)\n",
            "Requirement already satisfied: tqdm in /usr/local/lib/python3.10/dist-packages (from nltk) (4.66.4)\n"
          ]
        }
      ],
      "source": [
        "# CodeAlpa Internship Given Task Basic Chatbot\n",
        "# Task3: Create a text-based chatbot that can have conversation with users.You can use natural language processing libraries like NLTK or spaCy to make your chatbot more conversational.\n",
        "# Task sumission by Poojitha\n",
        "\n",
        "# Code for Basic Chatbot\n",
        "\n",
        "!pip install --upgrade nltk"
      ]
    },
    {
      "cell_type": "code",
      "source": [
        "from nltk.chat.util import Chat, reflections\n",
        "reflections"
      ],
      "metadata": {
        "colab": {
          "base_uri": "https://localhost:8080/"
        },
        "id": "t6OYHz2r-PLH",
        "outputId": "7aa05d2a-726b-478c-fd9a-45cc72b85c37"
      },
      "execution_count": 2,
      "outputs": [
        {
          "output_type": "execute_result",
          "data": {
            "text/plain": [
              "{'i am': 'you are',\n",
              " 'i was': 'you were',\n",
              " 'i': 'you',\n",
              " \"i'm\": 'you are',\n",
              " \"i'd\": 'you would',\n",
              " \"i've\": 'you have',\n",
              " \"i'll\": 'you will',\n",
              " 'my': 'your',\n",
              " 'you are': 'I am',\n",
              " 'you were': 'I was',\n",
              " \"you've\": 'I have',\n",
              " \"you'll\": 'I will',\n",
              " 'your': 'my',\n",
              " 'yours': 'mine',\n",
              " 'you': 'me',\n",
              " 'me': 'you'}"
            ]
          },
          "metadata": {},
          "execution_count": 2
        }
      ]
    },
    {
      "cell_type": "code",
      "source": [
        "from nltk.chat.util import Chat, reflections\n",
        "\n",
        "pairs = [\n",
        "    [r'hi',['hii']],\n",
        "    [r'hii|hey|hello',['hi there']],\n",
        " [r'how are you',['i am fine hoping u good']],\n",
        " [r'what is your name',['My name is chatbot']],\n",
        " [r'who invented you',['i am invented by pooja']],\n",
        " [r'who is your boss',['my boss is pooja']],\n",
        " [r'are you mad',['nice joke']],\n",
        " [r\"sorry\",['machine connot have feelings its ok.']],\n",
        " [r'what is python',['it is a programming language']],\n",
        " [r'what is CodeAlpa',['its a student internship career path']],\n",
        " [r'thank you',['You re Welcome']],\n",
        "]\n",
        "\n",
        "chat = Chat(pairs, reflections)\n",
        "chat.converse()\n"
      ],
      "metadata": {
        "colab": {
          "base_uri": "https://localhost:8080/"
        },
        "id": "w5v3Mgf1_C4f",
        "outputId": "e9e0ebe3-0a2a-44d2-8f90-22f448a57757"
      },
      "execution_count": null,
      "outputs": [
        {
          "output_type": "stream",
          "name": "stdout",
          "text": [
            ">hi\n",
            "hii\n",
            ">hey\n",
            "hi there\n",
            ">how are you\n",
            "i am fine hoping u good\n",
            ">who invented you\n",
            "i am invented by pooja\n",
            ">who is your boss\n",
            "my boss is pooja\n",
            ">what are you doing\n",
            "None\n",
            ">are you mad\n",
            "nice joke\n",
            ">sorry\n",
            "machine connot have feelings its ok.\n",
            ">what is python\n",
            "it is a programming language\n",
            ">what is CodeAlpa\n",
            "its a student internship career path\n",
            ">thank you\n",
            "You re Welcome\n"
          ]
        }
      ]
    }
  ]
}